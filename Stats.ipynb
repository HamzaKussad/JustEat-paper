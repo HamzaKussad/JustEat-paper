{
 "cells": [
  {
   "cell_type": "code",
   "execution_count": 1,
   "metadata": {},
   "outputs": [],
   "source": [
    "from scipy import stats\n",
    "import numpy as np\n",
    "import pandas as pd\n",
    "import matplotlib as mpl\n",
    "import matplotlib.pyplot as plt\n",
    "import matplotlib.image as mpimg\n",
    "import matplotlib.dates as mdates\n",
    "import os\n",
    "import glob\n",
    "import seaborn as sns\n",
    "import datetime as dt\n",
    "import statsmodels.formula.api as smf"
   ]
  },
  {
   "cell_type": "code",
   "execution_count": 2,
   "metadata": {},
   "outputs": [],
   "source": [
    "bike_data = pd.concat(map(pd.read_csv, glob.glob(os.path.join('', \"Datasets/bike_data*.csv\"))))\n",
    "daily_covid_data = pd.read_csv(\"Datasets/daily_covid_scotland.csv\")"
   ]
  },
  {
   "cell_type": "code",
   "execution_count": 3,
   "metadata": {},
   "outputs": [],
   "source": [
    "#basic cleaning\n",
    "(bike_data.isna().sum()) \n",
    "bike_data['started_at'] = pd.to_datetime(bike_data['started_at']).dt.tz_localize(None) #convert to dateTime\n",
    "bike_data['ended_at'] = pd.to_datetime(bike_data['ended_at']).dt.tz_localize(None)\n",
    "bike_data = bike_data.drop(['start_station_description','end_station_description'], axis=1) #not needed\n",
    "bike_data = bike_data[((bike_data.duration >= 150) & (bike_data.duration <= 7200))] #filter times"
   ]
  },
  {
   "cell_type": "code",
   "execution_count": 4,
   "metadata": {},
   "outputs": [
    {
     "name": "stdout",
     "output_type": "stream",
     "text": [
      "1078.75\n",
      "started_at\n",
      "1      894\n",
      "2      993\n",
      "3     1236\n",
      "4     1026\n",
      "5      674\n",
      "6      786\n",
      "7     1144\n",
      "8     1107\n",
      "9     1300\n",
      "10     997\n",
      "11    1339\n",
      "12    1449\n",
      "Name: started_at, dtype: int64\n",
      "Ttest_indResult(statistic=0.03710783724387137, pvalue=0.9707059580705653)\n"
     ]
    }
   ],
   "source": [
    "#bike usage\n",
    "days = bike_data['started_at']\n",
    "\n",
    "\n",
    "prelockdown = days[(days > '2020-01-01') & (days < '2020-03-23')]\n",
    "prelockdown = (prelockdown.groupby(prelockdown.dt.week).count())\n",
    "duringlockdown = days[(days > '2020-03-01') & (days < '2020-06-01')]\n",
    "duringlockdown = (duringlockdown.groupby(duringlockdown.dt.week).count())\n",
    "prelockdown2019 = days[(days > '2019-01-01') & (days < '2019-03-23')]\n",
    "prelockdown2019 = (prelockdown2019.groupby(prelockdown2019.dt.week).count())\n",
    "duringlockdown2019 = days[(days > '2019-03-01') & (days < '2019-06-01')]\n",
    "duringlockdown2019 = (duringlockdown2019.groupby(duringlockdown2019.dt.week).count())\n",
    "\n",
    "print(prelockdown2019.mean())\n",
    "print(prelockdown2019)\n",
    "actuallockdown = prelockdown/prelockdown2019\n",
    "actualpre = duringlockdown/duringlockdown2019\n",
    "\n",
    "\n",
    "nineteen = days[(days > '2019-01-01') & (days < '2019-12-31')]\n",
    "nineteen = (nineteen.groupby(nineteen.dt.week).count())\n",
    "twenty = days[(days > '2020-01-01') & (days < '2020-12-31')]\n",
    "twenty = (twenty.groupby(twenty.dt.week).count())\n",
    "\n",
    "print(stats.ttest_ind(actuallockdown, actualpre))\n",
    "\n",
    "\n",
    "#I wanted to compare the effect of lockdown on the usage on bikes, but the weather also plays a factor in the usage, so i got\n",
    "#data from the previous year, used it to normalise with 2020 to get rid of the weather factor. This way we compare the \n",
    "#immediate effect of the lockdown not affected by any other exterior factors giving us a p-value of 0.97 which clearly indicates\n",
    "#no difference in the usage of bikes before and during lockdown\n",
    "\n",
    "\n",
    "\n",
    "\n",
    "#Our null hypothesis is that there is no change in bike usage prelockdown and during lockdown, the p value is so large which\n",
    "#indicates that our null hypothesis is correct and is not rejected\n"
   ]
  },
  {
   "cell_type": "code",
   "execution_count": 5,
   "metadata": {},
   "outputs": [
    {
     "name": "stdout",
     "output_type": "stream",
     "text": [
      "1653.2\n",
      "2766.285714285714\n"
     ]
    }
   ],
   "source": [
    "#winter and summer\n",
    "days = bike_data['started_at']\n",
    "winter = days[(days > '2019-12-01') & (days < '2020-02-01')]\n",
    "winter = (winter.groupby(winter.dt.week).count())\n",
    "summer = days[(days > '2019-06-01') & (days < '2019-09-01')]\n",
    "summer = (summer.groupby(summer.dt.week).count())\n",
    "print(winter.mean())\n",
    "print(summer.mean())\n"
   ]
  },
  {
   "cell_type": "code",
   "execution_count": null,
   "metadata": {},
   "outputs": [],
   "source": []
  },
  {
   "cell_type": "code",
   "execution_count": 6,
   "metadata": {},
   "outputs": [
    {
     "name": "stdout",
     "output_type": "stream",
     "text": [
      "                  started_at                ended_at  duration  \\\n",
      "4    2019-01-01 06:54:31.775 2019-01-01 06:59:52.605       320   \n",
      "5    2019-01-01 07:31:24.568 2019-01-01 07:42:31.636       667   \n",
      "6    2019-01-01 08:47:46.089 2019-01-01 09:00:57.767       791   \n",
      "16   2019-01-01 10:08:59.959 2019-01-01 10:21:42.315       762   \n",
      "17   2019-01-01 10:13:43.107 2019-01-01 11:18:06.180      3863   \n",
      "...                      ...                     ...       ...   \n",
      "9194 2021-03-21 22:33:37.824 2021-03-21 23:28:47.027      3309   \n",
      "9196 2021-03-21 22:41:49.030 2021-03-21 22:48:52.559       423   \n",
      "9197 2021-03-21 22:44:20.391 2021-03-21 22:50:19.736       359   \n",
      "9205 2021-03-21 23:29:53.064 2021-03-21 23:39:45.321       592   \n",
      "9206 2021-03-21 23:32:59.710 2021-03-21 23:54:22.823      1283   \n",
      "\n",
      "      start_station_id       start_station_name  start_station_latitude  \\\n",
      "4                  251         Waverley Station               55.952641   \n",
      "5                  261          Brunswick Place               55.960930   \n",
      "6                  259         St Andrew Square               55.954749   \n",
      "16                 246  Royal Commonwealth Pool               55.939000   \n",
      "17                 246  Royal Commonwealth Pool               55.939000   \n",
      "...                ...                      ...                     ...   \n",
      "9194               265             Meadows East               55.939809   \n",
      "9196              1814                Abbeyhill               55.955248   \n",
      "9197              1098       Marchmont Crescent               55.936432   \n",
      "9205              1024             Meadow Place               55.940238   \n",
      "9206              1090        Hillside Crescent               55.957872   \n",
      "\n",
      "      start_station_longitude  end_station_id         end_station_name  \\\n",
      "4                   -3.187527             261          Brunswick Place   \n",
      "5                   -3.181005             265             Meadows East   \n",
      "6                   -3.192774             246  Royal Commonwealth Pool   \n",
      "16                  -3.173924             247         Charlotte Square   \n",
      "17                  -3.173924             246  Royal Commonwealth Pool   \n",
      "...                       ...             ...                      ...   \n",
      "9194                -3.182739             249           Fountainbridge   \n",
      "9196                -3.172216            1091            Holyrood Road   \n",
      "9197                -3.194150             265             Meadows East   \n",
      "9205                -3.194640            1798          Chambers Street   \n",
      "9206                -3.175888            1024             Meadow Place   \n",
      "\n",
      "      end_station_latitude  end_station_longitude  haversine_dist_start  \\\n",
      "4                55.960930              -3.181005              0.965790   \n",
      "5                55.939809              -3.182739              2.078289   \n",
      "6                55.939000              -3.173924              1.245194   \n",
      "16               55.952335              -3.207101              1.792081   \n",
      "17               55.939000              -3.173924              1.792081   \n",
      "...                    ...                    ...                   ...   \n",
      "9194             55.943357              -3.209248              0.863943   \n",
      "9196             55.949560              -3.180413              2.258498   \n",
      "9197             55.939809              -3.182739              1.012072   \n",
      "9205             55.947600              -3.188920              0.739123   \n",
      "9206             55.940238              -3.194640              2.128289   \n",
      "\n",
      "      haversine_dist_end  \n",
      "4               2.078289  \n",
      "5               0.863943  \n",
      "6               1.792081  \n",
      "16              2.186485  \n",
      "17              1.792081  \n",
      "...                  ...  \n",
      "9194            2.226666  \n",
      "9196            1.151084  \n",
      "9197            0.863943  \n",
      "9205            0.389401  \n",
      "9206            0.739123  \n",
      "\n",
      "[128711 rows x 13 columns]\n",
      "13125\n",
      "4291\n",
      "10014\n",
      "18802\n"
     ]
    },
    {
     "data": {
      "text/plain": [
       "Ttest_indResult(statistic=-9.483318693369375, pvalue=7.661518288670697e-09)"
      ]
     },
     "execution_count": 6,
     "metadata": {},
     "output_type": "execute_result"
    }
   ],
   "source": [
    "#popular stations test pre and post lockdown, inner and outer city\n",
    "\n",
    "#days = bike_data['started_at']\n",
    "\n",
    "\n",
    "#prelockdown = days[(days > '2020-01-01') & (days < '2020-03-23')]\n",
    "#prelockdown = (prelockdown.groupby(prelockdown.dt.hour).count())\n",
    "#duringlockdown = days[(days > '2020-03-01') & (days < '2020-06-01')]\n",
    "#duringlockdown = (duringlockdown.groupby(duringlockdown.dt.hour).count())\n",
    "\n",
    "\n",
    "\n",
    "\n",
    "def haversine_vectorize(lon1, lat1, lon2, lat2):\n",
    "    lon1, lat1, lon2, lat2 = map(np.radians, [lon1, lat1, lon2, lat2])\n",
    "    newlon = lon2 - lon1\n",
    "    newlat = lat2 - lat1\n",
    "    haver_formula = np.sin(newlat/2.0)**2 + np.cos(lat1) * np.cos(lat2) * np.sin(newlon/2.0)**2\n",
    "    dist = 2 * np.arcsin(np.sqrt(haver_formula ))\n",
    "    km = 6367 * dist #6367 for distance in KM for miles use 3958\n",
    "    return km\n",
    "\n",
    "distance = bike_data\n",
    "distance['haversine_dist_start'] = haversine_vectorize(55.94410409593906, -3.189223922703719, distance['start_station_latitude'], distance['start_station_longitude'])\n",
    "distance['haversine_dist_end'] = haversine_vectorize(55.94410409593906, -3.189223922703719, distance['end_station_latitude'], distance['end_station_longitude'])\n",
    "\n",
    "citycentre = distance[(distance['haversine_dist_start'] < 2.5) & (distance['haversine_dist_end']<2.5 )]\n",
    "cityside = distance[(distance['haversine_dist_start'] > 2.5) & (distance['haversine_dist_end'] > 2.5)]\n",
    "\n",
    "print (citycentre)\n",
    "\n",
    "prelockdown1 = citycentre[(citycentre['started_at'] > '2020-01-01') & (citycentre['started_at'] < '2020-03-23')]\n",
    "prelockdown11 = (prelockdown1['started_at'].groupby(prelockdown1['started_at'].dt.week).count())\n",
    "prelockdown2 = cityside[(cityside['started_at'] > '2020-01-01') & (cityside['started_at'] < '2020-03-23')]\n",
    "prelockdown12 = (prelockdown2['started_at'].groupby(prelockdown2['started_at'].dt.week).count())\n",
    "duringlockdown1 = citycentre[(citycentre['started_at'] > '2020-03-23') & (citycentre['started_at'] < '2020-06-01')]\n",
    "duringlockdown11 = (duringlockdown1['started_at'].groupby(duringlockdown1['started_at'].dt.week).count())\n",
    "duringlockdown2 = cityside[(cityside['started_at'] > '2020-03-23') & (cityside['started_at'] < '2020-06-01')]\n",
    "duringlockdown12 = (duringlockdown2['started_at'].groupby(duringlockdown2['started_at'].dt.week).count())\n",
    "\n",
    "\n",
    "prelockdownratio = prelockdown11/prelockdown12\n",
    "duringlockdownratio = duringlockdown11/duringlockdown12\n",
    "\n",
    "print(prelockdown1['started_at'].count())\n",
    "print(prelockdown2['started_at'].count())\n",
    "print(duringlockdown1['started_at'].count())\n",
    "print(duringlockdown2['started_at'].count())\n",
    "prelockdownratio\n",
    "duringlockdownratio\n",
    "\n",
    "\n",
    "#This returns a p-value < 0.05, which makes us reject the null hypothesis\n",
    "\n",
    "stats.ttest_ind(duringlockdownratio,prelockdownratio)"
   ]
  },
  {
   "cell_type": "code",
   "execution_count": 7,
   "metadata": {},
   "outputs": [
    {
     "name": "stderr",
     "output_type": "stream",
     "text": [
      "<ipython-input-7-3b10a98fada9>:3: SettingWithCopyWarning: \n",
      "A value is trying to be set on a copy of a slice from a DataFrame.\n",
      "Try using .loc[row_indexer,col_indexer] = value instead\n",
      "\n",
      "See the caveats in the documentation: https://pandas.pydata.org/pandas-docs/stable/user_guide/indexing.html#returning-a-view-versus-a-copy\n",
      "  duration['delta'] = (duration['ended_at'] - duration['started_at'])\n",
      "<ipython-input-7-3b10a98fada9>:4: SettingWithCopyWarning: \n",
      "A value is trying to be set on a copy of a slice from a DataFrame.\n",
      "Try using .loc[row_indexer,col_indexer] = value instead\n",
      "\n",
      "See the caveats in the documentation: https://pandas.pydata.org/pandas-docs/stable/user_guide/indexing.html#returning-a-view-versus-a-copy\n",
      "  duration['delta'] = duration['delta'].dt.seconds\n"
     ]
    },
    {
     "data": {
      "text/plain": [
       "Ttest_indResult(statistic=83.06809750432954, pvalue=0.0)"
      ]
     },
     "execution_count": 7,
     "metadata": {},
     "output_type": "execute_result"
    }
   ],
   "source": [
    "#trip duration\n",
    "duration = bike_data[['started_at','ended_at']]\n",
    "duration['delta'] = (duration['ended_at'] - duration['started_at'])\n",
    "duration['delta'] = duration['delta'].dt.seconds\n",
    "\n",
    "\n",
    "duration\n",
    "prelockdown = duration[(duration['started_at'] > '2019-03-23') & (duration['started_at'] < '2019-06-01')]['delta']\n",
    "duringlockdown = duration[(duration['started_at'] > '2020-03-23') & (duration['started_at'] < '2020-06-01')]['delta']\n",
    "stats.ttest_ind(duringlockdown, prelockdown)\n",
    "\n",
    "#from pprint import pprint\n",
    "#pprint ([(i, stats.ks_2samp(prelockdown, duringlockdown[:i])[1]) for i in range(200,len(duringlockdown),200)])\n"
   ]
  },
  {
   "cell_type": "code",
   "execution_count": 8,
   "metadata": {},
   "outputs": [
    {
     "data": {
      "text/plain": [
       "Ttest_indResult(statistic=-1.9125449205029588, pvalue=0.06204457379048867)"
      ]
     },
     "execution_count": 8,
     "metadata": {},
     "output_type": "execute_result"
    }
   ],
   "source": [
    "#time of the day\n",
    "days = bike_data['started_at']\n",
    "\n",
    "days1 = days[(days >= '2019-03-23') & (days < '2019-06-01')]\n",
    "days1 = (days1.groupby(days1.dt.hour).count())\n",
    "\n",
    "days2 = days[(days >= '2020-03-23') & (days < '2020-06-01')]\n",
    "days2 = (days2.groupby(days2.dt.hour).count())\n",
    "\n",
    "\n",
    "stats.ttest_ind(days1, days2)"
   ]
  },
  {
   "cell_type": "code",
   "execution_count": 9,
   "metadata": {},
   "outputs": [
    {
     "name": "stdout",
     "output_type": "stream",
     "text": [
      "Ttest_indResult(statistic=-2.8254219685514275, pvalue=0.0051751034544969855)\n",
      "           start_station_name  popularity\n",
      "107  Western General Hospital          52\n",
      "106     Wester Coates Terrace         136\n",
      "105        West Crosscauseway         437\n",
      "104          Waverley Station         168\n",
      "103            Waverley Court         177\n",
      "\n",
      "\n",
      "\n",
      "           start_station_name  popularity\n",
      "104  Western General Hospital         376\n",
      "103     Wester Coates Terrace         312\n",
      "102        West Crosscauseway         245\n",
      "101          Waverley Station          45\n",
      "100            Waverley Court          64\n"
     ]
    }
   ],
   "source": [
    "station_pop = bike_data\n",
    "station_pop['popularity'] = 0\n",
    "\n",
    "station_pop1 = station_pop[(station_pop.started_at >= '2020-01-01') & (station_pop.started_at < '2020-03-23')]\n",
    "station_pop1 = (station_pop1.groupby(station_pop1.start_station_name).count()).reset_index()\n",
    "station_pop1 = station_pop1[['start_station_name','popularity']]\n",
    "station_pop1 = station_pop1.sort_values(by='start_station_name', ascending=False)\n",
    "\n",
    "station_pop2 = station_pop[(station_pop.started_at >= '2020-03-23') & (station_pop.started_at < '2020-06-01')]\n",
    "station_pop2 = (station_pop2.groupby(station_pop2.start_station_name).count()).reset_index()\n",
    "station_pop2 = station_pop2[['start_station_name','popularity']]\n",
    "station_pop2 = station_pop2.sort_values(by='start_station_name', ascending=False)\n",
    "\n",
    "print(stats.ttest_ind(station_pop1['popularity'], station_pop2['popularity']))\n",
    "print(station_pop1.head(5))\n",
    "print(\"\\n\\n\")\n",
    "print(station_pop2.head(5))"
   ]
  },
  {
   "cell_type": "code",
   "execution_count": 10,
   "metadata": {},
   "outputs": [
    {
     "name": "stdout",
     "output_type": "stream",
     "text": [
      "Confidence Interval\n",
      "0.025    2594.782143\n",
      "0.975    4756.292857\n",
      "dtype: float64\n",
      "Confidence Interval\n",
      "0.025    1952.579167\n",
      "0.975    2826.172917\n",
      "dtype: float64\n"
     ]
    },
    {
     "data": {
      "image/png": "[encoded data removed]",
      "text/plain": [
       "<Figure size 432x288 with 1 Axes>"
      ]
     },
     "metadata": {
      "needs_background": "light"
     },
     "output_type": "display_data"
    }
   ],
   "source": [
    "days = bike_data['started_at']\n",
    "\n",
    "\n",
    "prelockdown = days[(days > '2020-01-01') & (days < '2020-03-23')]\n",
    "prelockdown = (prelockdown.groupby(prelockdown.dt.week).count())\n",
    "duringlockdown = days[(days > '2020-03-01') & (days < '2020-06-01')]\n",
    "duringlockdown = (duringlockdown.groupby(duringlockdown.dt.week).count())\n",
    "prelockdown2019 = days[(days > '2019-01-01') & (days < '2019-03-23')]\n",
    "prelockdown2019 = (prelockdown2019.groupby(prelockdown2019.dt.week).count())\n",
    "duringlockdown2019 = days[(days > '2019-03-01') & (days < '2019-06-01')]\n",
    "duringlockdown2019 = (duringlockdown2019.groupby(duringlockdown2019.dt.week).count())\n",
    "\n",
    "actuallockdown = prelockdown/prelockdown2019\n",
    "actualpre = duringlockdown/duringlockdown2019\n",
    "\n",
    "\n",
    "#bootstrap with 20000 repitions rides per day\n",
    "k = 20000\n",
    "n = len(duringlockdown)\n",
    "x = np.zeros(k)\n",
    "for i in range(k):\n",
    "    x_star = duringlockdown.sample(n,replace = True)\n",
    "    x[i] = x_star.mean()\n",
    "    \n",
    "plt.hist(x,20)\n",
    "print(\"Confidence Interval\")\n",
    "print(pd.Series(x).quantile([0.025, 0.975]))\n",
    "\n",
    "\n",
    "y = len(prelockdown)\n",
    "for i in range(k):\n",
    "    x_star = prelockdown.sample(y,replace = True)\n",
    "    x[i] = x_star.mean()\n",
    "    \n",
    "plt.hist(x,20)\n",
    "print(\"Confidence Interval\")\n",
    "print(pd.Series(x).quantile([0.025, 0.975]))"
   ]
  },
  {
   "cell_type": "code",
   "execution_count": 11,
   "metadata": {},
   "outputs": [
    {
     "name": "stdout",
     "output_type": "stream",
     "text": [
      "Confidence Interval\n",
      "0.025    1.281447\n",
      "0.975    3.773306\n",
      "dtype: float64\n"
     ]
    },
    {
     "data": {
      "image/png": "[encoded data removed]",
      "text/plain": [
       "<Figure size 432x288 with 1 Axes>"
      ]
     },
     "metadata": {
      "needs_background": "light"
     },
     "output_type": "display_data"
    }
   ],
   "source": [
    "k = 20000\n",
    "n = len(actuallockdown)\n",
    "x = np.zeros(k)\n",
    "for i in range(k):\n",
    "    x_star = actuallockdown.sample(n,replace = True)\n",
    "    x[i] = x_star.mean()\n",
    "    \n",
    "plt.hist(x,20)\n",
    "\n",
    "for i in range(k):\n",
    "    x_star = actualpre.sample(n,replace = True)\n",
    "    x[i] = x_star.mean()\n",
    "    \n",
    "plt.hist(x,20)\n",
    "print(\"Confidence Interval\")\n",
    "print(pd.Series(x).quantile([0.025, 0.975]))\n",
    "\n",
    "#this graph is standarized over the 2019 data to get rid of the weather factor, and the increase in popularity of the system\n",
    "#this assumes that the increase in popularity is linear, which ofcourse is not, but this is as close as we can get to comparing\n",
    "#the lone effect of lockdown"
   ]
  },
  {
   "cell_type": "code",
   "execution_count": 12,
   "metadata": {},
   "outputs": [],
   "source": [
    "weather_2019 = pd.read_csv(\"Datasets/weather2019.csv\")\n",
    "weather_2019['date'] = pd.to_datetime(weather_2019['date'])"
   ]
  },
  {
   "cell_type": "code",
   "execution_count": 13,
   "metadata": {},
   "outputs": [],
   "source": [
    "#Correlation between weather and usage in 2019 - setup\n",
    "\n",
    "rides_2019 = bike_data['started_at']\n",
    "rides_2019 = rides_2019[(rides_2019 >= '2019-01-01') & (rides_2019 < '2020-01-01')]\n",
    "rides_2019 = (rides_2019.groupby(rides_2019.dt.week).count()).reset_index(name='rides_taken')\n",
    "rides_2019 = rides_2019.rename(columns={'started_at' : 'date'})\n",
    "\n",
    "temp_2019 = weather_2019[['date','tavg','prcp','wspd','pres']]\n",
    "temp_2019 = temp_2019[(temp_2019.date >= '2019-01-01') & (temp_2019.date < '2020-01-01')]\n",
    "temp_2019 = (temp_2019.groupby(temp_2019.date.dt.week).mean()).reset_index()\n",
    "\n",
    "merged_2019 = pd.merge(rides_2019,temp_2019, how='outer', on='date') \n",
    "merged_2019.insert(loc = len(merged_2019.columns), column = 'log_rides_taken', value = merged_2019['rides_taken'].apply(np.log10))\n",
    "merged_2019 = merged_2019.set_index('date')"
   ]
  },
  {
   "cell_type": "code",
   "execution_count": 14,
   "metadata": {},
   "outputs": [
    {
     "data": {
      "text/html": [
       "<table class=\"simpletable\">\n",
       "<caption>OLS Regression Results</caption>\n",
       "<tr>\n",
       "  <th>Dep. Variable:</th>       <td>rides_taken</td>   <th>  R-squared:         </th> <td>   0.439</td>\n",
       "</tr>\n",
       "<tr>\n",
       "  <th>Model:</th>                   <td>OLS</td>       <th>  Adj. R-squared:    </th> <td>   0.427</td>\n",
       "</tr>\n",
       "<tr>\n",
       "  <th>Method:</th>             <td>Least Squares</td>  <th>  F-statistic:       </th> <td>   39.06</td>\n",
       "</tr>\n",
       "<tr>\n",
       "  <th>Date:</th>             <td>Mon, 05 Apr 2021</td> <th>  Prob (F-statistic):</th> <td>8.94e-08</td>\n",
       "</tr>\n",
       "<tr>\n",
       "  <th>Time:</th>                 <td>06:31:24</td>     <th>  Log-Likelihood:    </th> <td> -415.08</td>\n",
       "</tr>\n",
       "<tr>\n",
       "  <th>No. Observations:</th>      <td>    52</td>      <th>  AIC:               </th> <td>   834.2</td>\n",
       "</tr>\n",
       "<tr>\n",
       "  <th>Df Residuals:</th>          <td>    50</td>      <th>  BIC:               </th> <td>   838.1</td>\n",
       "</tr>\n",
       "<tr>\n",
       "  <th>Df Model:</th>              <td>     1</td>      <th>                     </th>     <td> </td>   \n",
       "</tr>\n",
       "<tr>\n",
       "  <th>Covariance Type:</th>      <td>nonrobust</td>    <th>                     </th>     <td> </td>   \n",
       "</tr>\n",
       "</table>\n",
       "<table class=\"simpletable\">\n",
       "<tr>\n",
       "      <td></td>         <th>coef</th>     <th>std err</th>      <th>t</th>      <th>P>|t|</th>  <th>[0.025</th>    <th>0.975]</th>  \n",
       "</tr>\n",
       "<tr>\n",
       "  <th>Intercept</th> <td>  907.6118</td> <td>  239.558</td> <td>    3.789</td> <td> 0.000</td> <td>  426.446</td> <td> 1388.778</td>\n",
       "</tr>\n",
       "<tr>\n",
       "  <th>tavg</th>      <td>  145.6122</td> <td>   23.298</td> <td>    6.250</td> <td> 0.000</td> <td>   98.816</td> <td>  192.408</td>\n",
       "</tr>\n",
       "</table>\n",
       "<table class=\"simpletable\">\n",
       "<tr>\n",
       "  <th>Omnibus:</th>       <td>22.871</td> <th>  Durbin-Watson:     </th> <td>   0.962</td>\n",
       "</tr>\n",
       "<tr>\n",
       "  <th>Prob(Omnibus):</th> <td> 0.000</td> <th>  Jarque-Bera (JB):  </th> <td>  38.960</td>\n",
       "</tr>\n",
       "<tr>\n",
       "  <th>Skew:</th>          <td> 1.387</td> <th>  Prob(JB):          </th> <td>3.47e-09</td>\n",
       "</tr>\n",
       "<tr>\n",
       "  <th>Kurtosis:</th>      <td> 6.207</td> <th>  Cond. No.          </th> <td>    24.8</td>\n",
       "</tr>\n",
       "</table><br/><br/>Warnings:<br/>[1] Standard Errors assume that the covariance matrix of the errors is correctly specified."
      ],
      "text/plain": [
       "<class 'statsmodels.iolib.summary.Summary'>\n",
       "\"\"\"\n",
       "                            OLS Regression Results                            \n",
       "==============================================================================\n",
       "Dep. Variable:            rides_taken   R-squared:                       0.439\n",
       "Model:                            OLS   Adj. R-squared:                  0.427\n",
       "Method:                 Least Squares   F-statistic:                     39.06\n",
       "Date:                Mon, 05 Apr 2021   Prob (F-statistic):           8.94e-08\n",
       "Time:                        06:31:24   Log-Likelihood:                -415.08\n",
       "No. Observations:                  52   AIC:                             834.2\n",
       "Df Residuals:                      50   BIC:                             838.1\n",
       "Df Model:                           1                                         \n",
       "Covariance Type:            nonrobust                                         \n",
       "==============================================================================\n",
       "                 coef    std err          t      P>|t|      [0.025      0.975]\n",
       "------------------------------------------------------------------------------\n",
       "Intercept    907.6118    239.558      3.789      0.000     426.446    1388.778\n",
       "tavg         145.6122     23.298      6.250      0.000      98.816     192.408\n",
       "==============================================================================\n",
       "Omnibus:                       22.871   Durbin-Watson:                   0.962\n",
       "Prob(Omnibus):                  0.000   Jarque-Bera (JB):               38.960\n",
       "Skew:                           1.387   Prob(JB):                     3.47e-09\n",
       "Kurtosis:                       6.207   Cond. No.                         24.8\n",
       "==============================================================================\n",
       "\n",
       "Warnings:\n",
       "[1] Standard Errors assume that the covariance matrix of the errors is correctly specified.\n",
       "\"\"\""
      ]
     },
     "execution_count": 14,
     "metadata": {},
     "output_type": "execute_result"
    }
   ],
   "source": [
    "model1 = smf.ols('rides_taken ~ tavg', data=merged_2019)\n",
    "results1 = model1.fit()\n",
    "results1.summary()"
   ]
  },
  {
   "cell_type": "code",
   "execution_count": 15,
   "metadata": {},
   "outputs": [],
   "source": [
    "#model2 = smf.ols('log_rides_taken ~ tavg', data=merged_2019)\n",
    "#results2 = model2.fit()"
   ]
  },
  {
   "cell_type": "code",
   "execution_count": 16,
   "metadata": {},
   "outputs": [
    {
     "name": "stdout",
     "output_type": "stream",
     "text": [
      "907.6117739638149\n",
      "145.61220639811478\n"
     ]
    }
   ],
   "source": [
    "#bootstrapping linear regression\n",
    "def beta0hat(df):\n",
    "    model2 = smf.ols('rides_taken ~ tavg', data=df)\n",
    "    results2 = model2.fit()\n",
    "    return (results2.params['Intercept'])\n",
    "\n",
    "def beta1hat(df):\n",
    "    model2 = smf.ols('rides_taken ~ tavg', data=df)\n",
    "    results2 = model2.fit()\n",
    "    return (results2.params['tavg'] )\n",
    "\n",
    "print(beta0hat(merged_2019))\n",
    "print(beta1hat(merged_2019))"
   ]
  },
  {
   "cell_type": "code",
   "execution_count": 17,
   "metadata": {},
   "outputs": [],
   "source": [
    "def bootstrap_df(df, k=1000, estimator=beta0hat, quantiles=[0.1, 0.9], plot=False):\n",
    "    n = len(df)\n",
    "    x_star_est = np.zeros(k)\n",
    "    for i in range(k):\n",
    "        x_star = df.sample(n, replace=True)\n",
    "        x_star_est[i] = estimator(x_star)\n",
    "        \n",
    "    if (plot):\n",
    "        plt.hist(x_star_est, 20)\n",
    "    return(np.quantile(x_star_est, quantiles), np.std(x_star_est))\n",
    "\n",
    "#from labs"
   ]
  },
  {
   "cell_type": "code",
   "execution_count": 18,
   "metadata": {},
   "outputs": [
    {
     "name": "stdout",
     "output_type": "stream",
     "text": [
      "(array([ 647.56755334, 1196.26045267]), 216.52375693432236)\n",
      "(array([119.88174098, 173.19644929]), 21.245023307473588)\n"
     ]
    },
    {
     "data": {
      "text/html": [
       "<table class=\"simpletable\">\n",
       "<caption>OLS Regression Results</caption>\n",
       "<tr>\n",
       "  <th>Dep. Variable:</th>       <td>rides_taken</td>   <th>  R-squared:         </th> <td>   0.439</td>\n",
       "</tr>\n",
       "<tr>\n",
       "  <th>Model:</th>                   <td>OLS</td>       <th>  Adj. R-squared:    </th> <td>   0.427</td>\n",
       "</tr>\n",
       "<tr>\n",
       "  <th>Method:</th>             <td>Least Squares</td>  <th>  F-statistic:       </th> <td>   39.06</td>\n",
       "</tr>\n",
       "<tr>\n",
       "  <th>Date:</th>             <td>Mon, 05 Apr 2021</td> <th>  Prob (F-statistic):</th> <td>8.94e-08</td>\n",
       "</tr>\n",
       "<tr>\n",
       "  <th>Time:</th>                 <td>06:31:33</td>     <th>  Log-Likelihood:    </th> <td> -415.08</td>\n",
       "</tr>\n",
       "<tr>\n",
       "  <th>No. Observations:</th>      <td>    52</td>      <th>  AIC:               </th> <td>   834.2</td>\n",
       "</tr>\n",
       "<tr>\n",
       "  <th>Df Residuals:</th>          <td>    50</td>      <th>  BIC:               </th> <td>   838.1</td>\n",
       "</tr>\n",
       "<tr>\n",
       "  <th>Df Model:</th>              <td>     1</td>      <th>                     </th>     <td> </td>   \n",
       "</tr>\n",
       "<tr>\n",
       "  <th>Covariance Type:</th>      <td>nonrobust</td>    <th>                     </th>     <td> </td>   \n",
       "</tr>\n",
       "</table>\n",
       "<table class=\"simpletable\">\n",
       "<tr>\n",
       "      <td></td>         <th>coef</th>     <th>std err</th>      <th>t</th>      <th>P>|t|</th>  <th>[0.025</th>    <th>0.975]</th>  \n",
       "</tr>\n",
       "<tr>\n",
       "  <th>Intercept</th> <td>  907.6118</td> <td>  239.558</td> <td>    3.789</td> <td> 0.000</td> <td>  426.446</td> <td> 1388.778</td>\n",
       "</tr>\n",
       "<tr>\n",
       "  <th>tavg</th>      <td>  145.6122</td> <td>   23.298</td> <td>    6.250</td> <td> 0.000</td> <td>   98.816</td> <td>  192.408</td>\n",
       "</tr>\n",
       "</table>\n",
       "<table class=\"simpletable\">\n",
       "<tr>\n",
       "  <th>Omnibus:</th>       <td>22.871</td> <th>  Durbin-Watson:     </th> <td>   0.962</td>\n",
       "</tr>\n",
       "<tr>\n",
       "  <th>Prob(Omnibus):</th> <td> 0.000</td> <th>  Jarque-Bera (JB):  </th> <td>  38.960</td>\n",
       "</tr>\n",
       "<tr>\n",
       "  <th>Skew:</th>          <td> 1.387</td> <th>  Prob(JB):          </th> <td>3.47e-09</td>\n",
       "</tr>\n",
       "<tr>\n",
       "  <th>Kurtosis:</th>      <td> 6.207</td> <th>  Cond. No.          </th> <td>    24.8</td>\n",
       "</tr>\n",
       "</table><br/><br/>Warnings:<br/>[1] Standard Errors assume that the covariance matrix of the errors is correctly specified."
      ],
      "text/plain": [
       "<class 'statsmodels.iolib.summary.Summary'>\n",
       "\"\"\"\n",
       "                            OLS Regression Results                            \n",
       "==============================================================================\n",
       "Dep. Variable:            rides_taken   R-squared:                       0.439\n",
       "Model:                            OLS   Adj. R-squared:                  0.427\n",
       "Method:                 Least Squares   F-statistic:                     39.06\n",
       "Date:                Mon, 05 Apr 2021   Prob (F-statistic):           8.94e-08\n",
       "Time:                        06:31:33   Log-Likelihood:                -415.08\n",
       "No. Observations:                  52   AIC:                             834.2\n",
       "Df Residuals:                      50   BIC:                             838.1\n",
       "Df Model:                           1                                         \n",
       "Covariance Type:            nonrobust                                         \n",
       "==============================================================================\n",
       "                 coef    std err          t      P>|t|      [0.025      0.975]\n",
       "------------------------------------------------------------------------------\n",
       "Intercept    907.6118    239.558      3.789      0.000     426.446    1388.778\n",
       "tavg         145.6122     23.298      6.250      0.000      98.816     192.408\n",
       "==============================================================================\n",
       "Omnibus:                       22.871   Durbin-Watson:                   0.962\n",
       "Prob(Omnibus):                  0.000   Jarque-Bera (JB):               38.960\n",
       "Skew:                           1.387   Prob(JB):                     3.47e-09\n",
       "Kurtosis:                       6.207   Cond. No.                         24.8\n",
       "==============================================================================\n",
       "\n",
       "Warnings:\n",
       "[1] Standard Errors assume that the covariance matrix of the errors is correctly specified.\n",
       "\"\"\""
      ]
     },
     "execution_count": 18,
     "metadata": {},
     "output_type": "execute_result"
    },
    {
     "data": {
      "image/png": "[encoded data removed]",
      "text/plain": [
       "<Figure size 432x288 with 1 Axes>"
      ]
     },
     "metadata": {
      "needs_background": "light"
     },
     "output_type": "display_data"
    }
   ],
   "source": [
    "beta0_est = bootstrap_df(merged_2019, estimator=beta0hat, plot = True)\n",
    "beta1_est = bootstrap_df(merged_2019, estimator=beta1hat)\n",
    "model2 = smf.ols('rides_taken ~ tavg', data=merged_2019)\n",
    "results2 = model2.fit()\n",
    "\n",
    "print(beta0_est)\n",
    "\n",
    "print(beta1_est)\n",
    "results2.summary()"
   ]
  },
  {
   "cell_type": "code",
   "execution_count": null,
   "metadata": {},
   "outputs": [],
   "source": []
  }
 ],
 "metadata": {
  "kernelspec": {
   "display_name": "Python 3",
   "language": "python",
   "name": "python3"
  },
  "language_info": {
   "codemirror_mode": {
    "name": "ipython",
    "version": 3
   },
   "file_extension": ".py",
   "mimetype": "text/x-python",
   "name": "python",
   "nbconvert_exporter": "python",
   "pygments_lexer": "ipython3",
   "version": "3.8.3"
  }
 },
 "nbformat": 4,
 "nbformat_minor": 4
}
